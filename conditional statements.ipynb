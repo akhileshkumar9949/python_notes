{
 "cells": [
  {
   "cell_type": "markdown",
   "id": "176f9e9b-492a-481a-8769-a693cd8cae54",
   "metadata": {},
   "source": [
    "conditional statemnts :\n",
    "\n",
    "conditional statemnets in python perform a specific operation or task and take actions depending on wheather a specific boolean const6ant evaluates to true or flase \n",
    "\n",
    "conditional statement are handled by block of the if ststements in python \n",
    "\n",
    "condition statements are also known as decision making statements\n",
    "\n",
    "there are different types of conditional statements\n",
    "\n",
    "1.if sattement\n",
    "\n",
    "2.else statements\n",
    "\n",
    "3.elif statemennt\n",
    "\n",
    "4.nested if statements\n",
    "\n",
    "5.nested else statments\n",
    "\n",
    "If statement:\n",
    "\n",
    " if the given condition is true then the block of code will excuted ,if given condition flase nothing will be excuted \n",
    "\n",
    "\n",
    "synatx of if statement:\n",
    "\n",
    "if (condition)\n",
    "\n",
    "{\n",
    "\n",
    "blockofcode\n",
    "\n",
    "}\n",
    "\n",
    "\n",
    "flow chat \n",
    "              Flase                               True\n",
    "           ------------ condition-----------------------\n",
    "           -                                        - \n",
    "           -                                        -\n",
    "           -                                        -\n",
    "           -                                        -\n",
    "           -                            block of code excute\n",
    "           -                                        -\n",
    "           -\n",
    "           -                                        -\n",
    "           -                                        -\n",
    "           -                                        -\n",
    "    nothing will print                           exit:output\n",
    "\n"
   ]
  },
  {
   "cell_type": "code",
   "execution_count": 31,
   "id": "507ef5da-7170-4c33-a6eb-0c5d13bd6d3d",
   "metadata": {},
   "outputs": [
    {
     "name": "stdout",
     "output_type": "stream",
     "text": [
      " a is less than b\n"
     ]
    },
    {
     "name": "stdin",
     "output_type": "stream",
     "text": [
      "entre a num1 3\n",
      "entre a num2 3\n"
     ]
    },
    {
     "name": "stdout",
     "output_type": "stream",
     "text": [
      "you are passed in exam\n"
     ]
    },
    {
     "name": "stdin",
     "output_type": "stream",
     "text": [
      "entre a your marks 88\n"
     ]
    },
    {
     "name": "stdout",
     "output_type": "stream",
     "text": [
      "yout passed in exam\n"
     ]
    }
   ],
   "source": [
    "# example on if statments:\n",
    "\n",
    "# 1.write a program to find which is lessthan number between two numbers\n",
    "\n",
    "a=10\n",
    "\n",
    "b=15\n",
    "\n",
    "if a<b:\n",
    "    \n",
    "    print(\" a is less than b\")\n",
    "\n",
    "# 2.write a program to find which is lessthan number between two numbers\n",
    "\n",
    "a=int(input(\"entre a num1\"))\n",
    "\n",
    "b=int(input(\"entre a num2\"))\n",
    "\n",
    "if a>b:\n",
    "    \n",
    "    print(\"a is greathern b\")\n",
    "\n",
    "\n",
    "\n"
   ]
  },
  {
   "cell_type": "code",
   "execution_count": null,
   "id": "69bba96b-e1a5-4150-aa67-8ef1aa7442ae",
   "metadata": {},
   "outputs": [],
   "source": [
    "# 3.write a programe to eligibity of a condidate for votes\n",
    "\n",
    "age=int(input(\"entre condidate age\"))\n",
    "\n",
    "if age>=18:\n",
    "    \n",
    "    print(\"you are eligible for voting !!!\")\n",
    "    \n",
    "    print(\"Thank you for your interest !!!\")"
   ]
  },
  {
   "cell_type": "code",
   "execution_count": 6,
   "id": "5c446270-8aeb-4ae3-81f4-09a4a363ea8f",
   "metadata": {},
   "outputs": [
    {
     "name": "stdin",
     "output_type": "stream",
     "text": [
      "entre your age 19\n"
     ]
    },
    {
     "name": "stdout",
     "output_type": "stream",
     "text": [
      "your age is legal\n"
     ]
    }
   ],
   "source": [
    "# 4. write  a program that asks for a person's age and displays whether they are of legal age or not\n",
    "\n",
    "age=int(input(\"entre your age\"))\n",
    "\n",
    "if age>=18:\n",
    "    print(\"your age is legal\")\n",
    "else:\n",
    "    print(\"your age is not legal\")"
   ]
  },
  {
   "cell_type": "code",
   "execution_count": 33,
   "id": "55ee0077-86fd-41f6-b37f-f8d0c859a366",
   "metadata": {},
   "outputs": [
    {
     "name": "stdout",
     "output_type": "stream",
     "text": [
      "you are passed in exam\n"
     ]
    },
    {
     "name": "stdin",
     "output_type": "stream",
     "text": [
      "entre a your marks 55\n"
     ]
    }
   ],
   "source": [
    "\n",
    "#5. write a program to print wheather student is pass in exam or not\n",
    "\n",
    "marks=80\n",
    "\n",
    "if marks>=50:\n",
    "    \n",
    "    print(\"you are passed in exam\")\n",
    "\n",
    "marks=int(input(\"entre a your marks\"))\n",
    "\n",
    "if marks>=75:\n",
    "    \n",
    "    print(\"yout passed in exam\")"
   ]
  },
  {
   "cell_type": "code",
   "execution_count": 43,
   "id": "9a49a01e-7eb7-40f5-9e27-82b2f73c3641",
   "metadata": {},
   "outputs": [
    {
     "name": "stdout",
     "output_type": "stream",
     "text": [
      "given number is prime\n"
     ]
    },
    {
     "name": "stdin",
     "output_type": "stream",
     "text": [
      "entre a number 4\n"
     ]
    },
    {
     "name": "stdout",
     "output_type": "stream",
     "text": [
      "entre number is prime\n"
     ]
    }
   ],
   "source": [
    "#6. write a program to check wheather given number is prime or not\n",
    "\n",
    "num=4\n",
    "\n",
    "if num%2==0:\n",
    "    \n",
    "    print(\"given number is prime\")\n",
    "\n",
    "num1=int(input(\"entre a number\"))\n",
    "\n",
    "if num1%2==0:\n",
    "    \n",
    "    print(\"entre number is prime\")"
   ]
  },
  {
   "cell_type": "markdown",
   "id": "23e42ca1-5178-4c06-a7fe-7c994a98d35a",
   "metadata": {},
   "source": [
    "2.if else statement:\n",
    "\n",
    "if given condition is true then the block of if statement will be executed  ,if given condition is false then the block of else will be executed \n",
    "\n",
    "\n",
    "syntax:\n",
    "if (condition):\n",
    "    {\n",
    "        if block of code\n",
    "    }\n",
    "\n",
    "else:\n",
    "    {\n",
    "        else block of code\n",
    "    }\n",
    "\n",
    "\n",
    "flow chat of if else\n",
    "\n",
    "\n",
    "         (TRUE)    condition        ----------------          (flase)\n",
    "                       -                                        - \n",
    "                       -                                        -\n",
    "                       -                                        -\n",
    "                       -                                        -\n",
    "               if statement code                     else block code executed \n",
    "                       -                                        -\n",
    "                       -                                        -\n",
    "                       - ----------------------------------------      \n",
    "                       -                                        \n",
    "                       -                            \n",
    "            code execute after statement\n",
    "\n",
    "\n",
    "                        "
   ]
  },
  {
   "cell_type": "code",
   "execution_count": 8,
   "id": "f1a5e5ed-8f47-4fb8-b0af-4b4b8a8c7497",
   "metadata": {},
   "outputs": [
    {
     "name": "stdout",
     "output_type": "stream",
     "text": [
      "num1 is lessthan num2\n",
      "output executed\n",
      "num1 is smaller than num2\n",
      "output executed\n"
     ]
    }
   ],
   "source": [
    "# example of if  else statement\n",
    "\n",
    "# 7.write a program to print which number is lessthan between two numbers\n",
    "\n",
    "num1=10\n",
    "\n",
    "num2=20\n",
    "\n",
    "if num1<num2:\n",
    "    \n",
    "    print(\"num1 is lessthan num2\")\n",
    "    \n",
    "print(\"output executed\")\n",
    "          "
   ]
  },
  {
   "cell_type": "code",
   "execution_count": 14,
   "id": "432ff867-8c6e-433e-93f6-f33ffcd4f626",
   "metadata": {},
   "outputs": [
    {
     "name": "stdout",
     "output_type": "stream",
     "text": [
      "num1 is bigger than num2\n",
      "output executed\n"
     ]
    }
   ],
   "source": [
    "\n",
    "# example  on if else statment\n",
    "\n",
    "# 8. Write a program that reads two numbers and tells you which one is bigger\n",
    "\n",
    "num3=20\n",
    "\n",
    "num4=10\n",
    "\n",
    "if num3>num4:\n",
    "    \n",
    "    print(\"num1 is bigger than num2\")\n",
    "    \n",
    "else:\n",
    "    \n",
    "    print(\"num1 is smaller than num2\")\n",
    "\n",
    "print(\"output executed\")"
   ]
  },
  {
   "cell_type": "code",
   "execution_count": 71,
   "id": "6913fa24-31b1-4e38-b918-491ce65d8d67",
   "metadata": {},
   "outputs": [
    {
     "name": "stdin",
     "output_type": "stream",
     "text": [
      "entre candidate age 17\n"
     ]
    },
    {
     "name": "stdout",
     "output_type": "stream",
     "text": [
      "your age is lessthan 18...so your not eligable to vote this time...better luck next  time !!!!\n",
      "thank you ...\n"
     ]
    }
   ],
   "source": [
    "# 9.write a program to checl eligiblity of candidate age for voteing \n",
    "\n",
    "age=int(input(\"entre candidate age\"))\n",
    "\n",
    "if age >=18:\n",
    "    \n",
    "    print(\"your are eligable for voting !!!\")\n",
    "    \n",
    "    print(\"thank you !!!!\")\n",
    "    \n",
    "else:\n",
    "    \n",
    "    print(\"your age is lessthan 18...so your not eligable to vote this time...better luck next  time !!!!\")\n",
    "    \n",
    "    print(\"thank you ...\")"
   ]
  },
  {
   "cell_type": "code",
   "execution_count": 75,
   "id": "9863a85c-7a4a-4610-8002-c9b4ef841f58",
   "metadata": {},
   "outputs": [
    {
     "name": "stdin",
     "output_type": "stream",
     "text": [
      "entre your marks 55\n"
     ]
    },
    {
     "name": "stdout",
     "output_type": "stream",
     "text": [
      "your failed in exam ,better luck next time\n",
      "thank you\n"
     ]
    }
   ],
   "source": [
    "#10. write a program to check wheather pass in exam or not\n",
    "\n",
    "marks=int(input(\"entre your marks\"))\n",
    "\n",
    "if marks>=70:\n",
    "    \n",
    "    print(\"your passed in exam\")\n",
    "    \n",
    "    print(\"thank you\")\n",
    "else:\n",
    "    \n",
    "    print(\"your failed in exam ,better luck next time\")\n",
    "    \n",
    "    print(\"thank you\")"
   ]
  },
  {
   "cell_type": "code",
   "execution_count": 87,
   "id": "13f82885-2e33-4676-9317-32509fd30865",
   "metadata": {},
   "outputs": [
    {
     "name": "stdout",
     "output_type": "stream",
     "text": [
      "your passed in exam\n",
      "thank you\n"
     ]
    }
   ],
   "source": [
    "marks=40\n",
    "\n",
    "if marks>=50:\n",
    "    \n",
    "    print(\"you got first rank\")\n",
    "    \n",
    "    print(\"thank you\")\n",
    "    \n",
    "if marks <=50:\n",
    "    \n",
    "    print(\"your passed in exam\")\n",
    "    \n",
    "    print(\"thank you\")"
   ]
  },
  {
   "cell_type": "markdown",
   "id": "f353e913-e4d0-4e23-898d-94e6fa95f2fe",
   "metadata": {},
   "source": [
    "elif statement: the condition of the if is true then it execute the body of the if and again go outside of the condition \n",
    "\n",
    "if the given if condition false it next it go to  elif and it check the  statement of  elif if statment is true it print body of the  elif .\n",
    "\n",
    "if the elif statement also false then it go and check next elif ,if the next elif statment is true it print body of elif ...\n",
    "\n",
    "like this until the condition true it will check....\n",
    "\n",
    "if all the given conditions are false then itdirectly to else statemnt and print the else statment block code\n",
    "\n",
    "\n",
    "syntax:\n",
    "\n",
    "if (condition):\n",
    "\n",
    "    {\n",
    "    \n",
    "    if statement executed\n",
    "    \n",
    "    }\n",
    "    \n",
    "elif (condition)\n",
    "\n",
    "    {\n",
    "    elif statement executed\n",
    "    \n",
    "    }\n",
    "\n",
    "else :\n",
    "\n",
    "    {\n",
    "    \n",
    "    else condition executed\n",
    "    \n",
    "    }\n",
    "\n",
    "\n",
    "    flow chat of elif statemnet \n",
    "\n",
    "\n",
    "                                                    TRUE\n",
    "                                condition 1-------------------------Body of if executed------------------\n",
    "                                                                                                       -\n",
    "                                                                                                       -\n",
    "                                    -                                                                  -\n",
    "                            Flase                                                                      -\n",
    "                                    -                                                                  -\n",
    "                                                                                                       -\n",
    "                                                                                                       -\n",
    "                                    -                TRUE                                              -\n",
    "                                condition 2 ----------------------- Body of elif excuted ---------------                                                                                                                                                       -\n",
    "                                                                                                       -\n",
    "                                    -                                                                  -\n",
    "                                    \n",
    "                                                                                                       -     \n",
    "                            Flase   -                                                                  -\n",
    "                                                                                                       -\n",
    "                                    -               TRUE                                               -     \n",
    "                                condition 3------------------------Body of elif 2 excuted --------------            \n",
    "                                                                                                       -\n",
    "                                    -                                                                  -\n",
    "                                    -\n",
    "                            Flase   -                                                                  -\n",
    "                                    ------------------------------Body of else executed-----------------\n",
    "                                    --\n",
    "                                                                                                        -\n",
    "                                                                                                        -\n",
    "                                                                                                        -\n",
    "                                                                                    -\n",
    "                                                                                        excute after the statement\n",
    "\n",
    "\n",
    "\n",
    "\n",
    "                                "
   ]
  },
  {
   "cell_type": "code",
   "execution_count": 96,
   "id": "72efefb9-28a1-4669-b62f-7b47245fb0ba",
   "metadata": {},
   "outputs": [
    {
     "name": "stdout",
     "output_type": "stream",
     "text": [
      "both are equal\n",
      "output elif2 executed\n",
      "came outside of code after executed\n"
     ]
    }
   ],
   "source": [
    "# example of elif statemnt\n",
    "\n",
    "num1=30\n",
    "\n",
    "num2=30\n",
    "\n",
    "if num1>num2:\n",
    "    \n",
    "    print(\"num1 is greather than num2\")\n",
    "    \n",
    "    print(\"output if executed\")\n",
    "    \n",
    "elif num1<num2:\n",
    "    \n",
    "        print(\"num1 is lessthan than num2\")\n",
    "    \n",
    "        print(\"output elif1 executed\")\n",
    "    \n",
    "elif num1==num2:\n",
    "    \n",
    "        print(\"both are equal\")\n",
    "    \n",
    "        print(\"output elif2 executed\")\n",
    "else:\n",
    "    print(\"no statment is true\")\n",
    "    \n",
    "print(\"came outside of code after executed\")\n",
    "      \n",
    "    "
   ]
  },
  {
   "cell_type": "code",
   "execution_count": 104,
   "id": "58013b4f-8d89-4bec-a9ed-6a5bc650558c",
   "metadata": {},
   "outputs": [
    {
     "name": "stdin",
     "output_type": "stream",
     "text": [
      "entre a number 1 33\n",
      "entre a number 2 33\n"
     ]
    },
    {
     "name": "stdout",
     "output_type": "stream",
     "text": [
      "both are equal\n",
      "came outside of code after executed\n"
     ]
    }
   ],
   "source": [
    "\n",
    "num1=int(input(\"entre a number 1\"))\n",
    "\n",
    "num2=int(input(\"entre a number 2\"))\n",
    "\n",
    "if num1>num2:\n",
    "    \n",
    "    print(\"num1 is greather than num2\")\n",
    "    \n",
    "elif num1<num2:\n",
    "    \n",
    "     print(\"num1 is lessthan than num2\")\n",
    "    \n",
    "elif num1==num2:\n",
    "    \n",
    "        print(\"both are equal\")\n",
    "else:\n",
    "    \n",
    "    print(\"no statment is true\")\n",
    "    \n",
    "print(\"came outside of code after executed\")\n"
   ]
  },
  {
   "cell_type": "code",
   "execution_count": 118,
   "id": "76353b03-7306-445b-9403-553cab43acc4",
   "metadata": {},
   "outputs": [
    {
     "name": "stdin",
     "output_type": "stream",
     "text": [
      "entre your marks 36\n"
     ]
    },
    {
     "name": "stdout",
     "output_type": "stream",
     "text": [
      "your failed in exam\n",
      "thank you for your interst\n"
     ]
    }
   ],
   "source": [
    "# 11.write a program to check wehather students are passed in exam are not \n",
    "\n",
    "marks = int(input(\"entre your marks\"))\n",
    "\n",
    "if marks >=90:\n",
    "    \n",
    "    print(\"your passed\")\n",
    "    \n",
    "    print(\"your A grade\")\n",
    "    \n",
    "elif marks >=80:\n",
    "    \n",
    "        print(\"your passed\")\n",
    "    \n",
    "        print(\"your B grade\")\n",
    "\n",
    "elif marks >=70:\n",
    "\n",
    "        print(\"your passed\")\n",
    "    \n",
    "        print(\"your C grade\")\n",
    "\n",
    "elif marks >=40:\n",
    "\n",
    "\n",
    "        print(\"your passed\")\n",
    "else:\n",
    "    \n",
    "    print(\"your failed in exam\")\n",
    "    \n",
    "print(\"thank you for your interst\")"
   ]
  },
  {
   "cell_type": "code",
   "execution_count": 3,
   "id": "be094b88-6564-4d2b-b292-54c78f138ac7",
   "metadata": {},
   "outputs": [
    {
     "name": "stdin",
     "output_type": "stream",
     "text": [
      "entre a number 21\n"
     ]
    },
    {
     "name": "stdout",
     "output_type": "stream",
     "text": [
      "odd number\n"
     ]
    }
   ],
   "source": [
    " #12. Write a program that reads a number and reports whether it is odd or even.\n",
    "\n",
    "num1 = int(input(\"entre a number\"))\n",
    "if num1%2==0:\n",
    "    print(\"even number\")\n",
    "else:\n",
    "    print(\"odd number\")"
   ]
  },
  {
   "cell_type": "code",
   "execution_count": 15,
   "id": "795034f4-da8c-434f-99c4-bcadc1f6473b",
   "metadata": {},
   "outputs": [
    {
     "name": "stdin",
     "output_type": "stream",
     "text": [
      "entre a number -1\n"
     ]
    },
    {
     "name": "stdout",
     "output_type": "stream",
     "text": [
      "negative number\n"
     ]
    }
   ],
   "source": [
    " #13. Write a program that reads a number and reports whether it is positive, negative or zero.\n",
    "\n",
    "num1 = int(input(\"entre a number\"))\n",
    "\n",
    "if num1>0:\n",
    "    print(\"posstive number\")\n",
    "elif num1<0:\n",
    "    print(\"negative number\")\n",
    "else :\n",
    "    print(\"it is zero\")\n"
   ]
  },
  {
   "cell_type": "code",
   "execution_count": 17,
   "id": "660e8d82-338c-41b1-aee1-943088195420",
   "metadata": {},
   "outputs": [
    {
     "name": "stdin",
     "output_type": "stream",
     "text": [
      "entre test1 marks 6\n",
      "entre test2 marks 5\n"
     ]
    },
    {
     "name": "stdout",
     "output_type": "stream",
     "text": [
      "passed in test1\n",
      "failed in test2\n"
     ]
    }
   ],
   "source": [
    " # 14.write a program that reads the scores of two tests and reports whether the student passed (score greater than or equal to 6) \n",
    " # or failed (score less than 6) in each of the tests.\n",
    "\n",
    "test1=int(input(\"entre test1 marks\"))\n",
    "\n",
    "test2= int (input(\"entre test2 marks\"))\n",
    "\n",
    "if test1>=6:\n",
    "    print(\"passed in test1\")\n",
    "\n",
    "else:\n",
    "    print(\"failed in test1\")\n",
    "\n",
    "if test2>=6:\n",
    "    print(\"passed in test2\")\n",
    "else:\n",
    "    print(\"failed in test2\")\n",
    "\n"
   ]
  },
  {
   "cell_type": "code",
   "execution_count": 31,
   "id": "e05b6df3-c800-4e9e-b295-cdf51ee10600",
   "metadata": {},
   "outputs": [
    {
     "name": "stdin",
     "output_type": "stream",
     "text": [
      "entre a first test marks 3\n",
      "entre a second test marks 3\n"
     ]
    },
    {
     "name": "stdout",
     "output_type": "stream",
     "text": [
      "he student failed in exam avaerage is 4.5\n"
     ]
    }
   ],
   "source": [
    "# 15.write  a program that reads the grades of two tests, calculates the simple arithmetic mean, and informs whether the student passed\n",
    "# (average greater than or equal to 6) or failed (average less than 6)\n",
    "\n",
    "grade1=int(input(\"entre a first test marks\"))\n",
    "\n",
    "grade2=int(input(\"entre a second test marks\"))\n",
    "\n",
    "\n",
    "average=grade1+grade2/2\n",
    "\n",
    "if average>=6:\n",
    "    print(\"the student passed in exam avaerage is\",average)\n",
    "else:\n",
    "    print(\"he student failed in exam avaerage is\",average)"
   ]
  },
  {
   "cell_type": "code",
   "execution_count": 47,
   "id": "6164ad9d-39e3-4502-9c46-8a9e3eed5883",
   "metadata": {},
   "outputs": [
    {
     "name": "stdin",
     "output_type": "stream",
     "text": [
      "entre your first number 1\n",
      "entre your second number 2\n",
      "entre your third number 3\n"
     ]
    },
    {
     "name": "stdout",
     "output_type": "stream",
     "text": [
      "sum of three numbers not divisble by  divisble by 5 \n"
     ]
    }
   ],
   "source": [
    "# 16.write  a program that reads three numbers, and informs if their sum is divisible by 5 or not.\n",
    "\n",
    "num1=int(input(\"entre your first number\"))\n",
    "num2=int(input(\"entre your second number\"))\n",
    "num3=int(input(\"entre your third number\"))\n",
    "\n",
    "total_sum=num1+num2+num3\n",
    "\n",
    "if total_sum%5==0:\n",
    "    print(\"sum of three numbers divisble by 5 \")\n",
    "else:\n",
    "    print(\"sum of three numbers not divisble by  divisble by 5 \")\n",
    "\n",
    "    \n",
    "\n"
   ]
  },
  {
   "cell_type": "code",
   "execution_count": 57,
   "id": "c04048ab-21d1-41eb-bb92-5d1441c1a487",
   "metadata": {},
   "outputs": [
    {
     "name": "stdin",
     "output_type": "stream",
     "text": [
      "entre a num1 0\n",
      "entre a num2 0\n",
      "entre a num3 0\n"
     ]
    },
    {
     "name": "stdout",
     "output_type": "stream",
     "text": [
      "entre is zero\n"
     ]
    }
   ],
   "source": [
    "# 17.write a program that reads three numbers and checks if their sum is positive, negative or equal to zero\n",
    "\n",
    "num1=int(input(\"entre a num1\"))\n",
    "num2=int(input(\"entre a num2\"))\n",
    "num3=int(input(\"entre a num3\"))\n",
    "\n",
    "sum=num1+num2+num3\n",
    "\n",
    "if sum >0:\n",
    "    print(\"entre number is postive\",sum)\n",
    "elif sum<0:\n",
    "    print(\"enttre number is negative\",sum)\n",
    "else:\n",
    "    print(\"entre is zero\")\n",
    "\n"
   ]
  },
  {
   "cell_type": "code",
   "execution_count": 69,
   "id": "b99622d6-d965-49a8-a475-8fd159530b5b",
   "metadata": {},
   "outputs": [
    {
     "name": "stdin",
     "output_type": "stream",
     "text": [
      "entre num1 1\n",
      "entre num2 2\n",
      "entre num3 3\n"
     ]
    },
    {
     "name": "stdout",
     "output_type": "stream",
     "text": [
      "[1, 2, 3]\n"
     ]
    }
   ],
   "source": [
    "# 18. write a program that reads three numbers, and displays them on the screen in ascending order.\n",
    "num1=int(input(\"entre num1\"))\n",
    "num2=int(input(\"entre num2\"))\n",
    "num3=int(input(\"entre num3\"))\n",
    "\n",
    "num=[num1,num2,num3]\n",
    "\n",
    "num.sort()\n",
    "print(num)\n"
   ]
  },
  {
   "cell_type": "code",
   "execution_count": 77,
   "id": "25beff0d-12e4-4583-9198-cc9f07d72da6",
   "metadata": {},
   "outputs": [
    {
     "name": "stdin",
     "output_type": "stream",
     "text": [
      "entre a number 70\n"
     ]
    },
    {
     "name": "stdout",
     "output_type": "stream",
     "text": [
      "older\n"
     ]
    }
   ],
   "source": [
    " # 19.Create a program that asks for a person's age and displays whether they are a child (0-12 years old), teenager (13-17 years old), \n",
    " # adult (18-59 years old),or elderly (60 years old or older).\n",
    "\n",
    "num=int(input(\"entre a number\"))\n",
    "\n",
    "if num<=12:\n",
    "    print(\"child\")\n",
    "elif num<=17:\n",
    "    print(\"teenager\")\n",
    "elif num<=59:\n",
    "    print(\"adult\")\n",
    "else:\n",
    "    print(\"older\")\n"
   ]
  },
  {
   "cell_type": "code",
   "execution_count": 85,
   "id": "7b3b9eac-15e7-4fe0-bfa5-7881e4b79dfe",
   "metadata": {},
   "outputs": [
    {
     "name": "stdin",
     "output_type": "stream",
     "text": [
      "entre num1 5\n",
      "entre num2 3\n"
     ]
    },
    {
     "name": "stdout",
     "output_type": "stream",
     "text": [
      "not divisble\n"
     ]
    }
   ],
   "source": [
    "#20 write a program that asks for two numbers and displays if the first is divisible by the second\n",
    "num1=int(input(\"entre num1\"))\n",
    "num2=int(input(\"entre num2\"))\n",
    "\n",
    "if num1%num2==0:\n",
    "    print(\"divisble\")\n",
    "else:\n",
    "    print(\"not divisble\")\n"
   ]
  }
 ],
 "metadata": {
  "kernelspec": {
   "display_name": "Python 3 (ipykernel)",
   "language": "python",
   "name": "python3"
  },
  "language_info": {
   "codemirror_mode": {
    "name": "ipython",
    "version": 3
   },
   "file_extension": ".py",
   "mimetype": "text/x-python",
   "name": "python",
   "nbconvert_exporter": "python",
   "pygments_lexer": "ipython3",
   "version": "3.12.7"
  }
 },
 "nbformat": 4,
 "nbformat_minor": 5
}
